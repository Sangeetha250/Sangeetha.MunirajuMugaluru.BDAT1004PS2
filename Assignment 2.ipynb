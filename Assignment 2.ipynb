{
 "cells": [
  {
   "cell_type": "markdown",
   "id": "4226cd04",
   "metadata": {},
   "source": [
    "# PROBLEM SET 2"
   ]
  },
  {
   "cell_type": "markdown",
   "id": "a6301d6c",
   "metadata": {},
   "source": [
    "# QUESTION 1\n",
    "\n",
    "What value is displayed when the last expression (a) is evaluated? Explain your\n",
    "answer by indicating what happens in every executed statement."
   ]
  },
  {
   "cell_type": "code",
   "execution_count": 64,
   "id": "b44b6b85",
   "metadata": {},
   "outputs": [
    {
     "name": "stdout",
     "output_type": "stream",
     "text": [
      "6\n"
     ]
    }
   ],
   "source": [
    "a = 0\n",
    "def b():\n",
    "  global a\n",
    "  a = c(a)\n",
    "  return a\n",
    "def c(a):\n",
    "  return a + 2\n",
    "\n",
    "b()\n",
    "b()\n",
    "b()\n",
    "\n",
    "print(a)"
   ]
  },
  {
   "cell_type": "markdown",
   "id": "5579449d",
   "metadata": {},
   "source": [
    "In the above program, a is defined as global variable inside the b() function.\n",
    "when we execute the b() function it calls another function defined as c(a) inwhich the 'a' value is incremented by 2 for every execution.\n",
    "Hence the value of 'a' after 3 times b() function is 6."
   ]
  },
  {
   "cell_type": "markdown",
   "id": "24361429",
   "metadata": {},
   "source": [
    "# QUESTION 2\n",
    "\n",
    "Function fileLength(), given to you, takes the name of a file as input and returns \n",
    "the length of the file:"
   ]
  },
  {
   "cell_type": "code",
   "execution_count": 65,
   "id": "a4f26ead",
   "metadata": {},
   "outputs": [
    {
     "name": "stdout",
     "output_type": "stream",
     "text": [
      "611\n",
      "File C:\\Users\\msang\\OneDrive\\Desktop\\python programs\\blood.txt not found. \n"
     ]
    }
   ],
   "source": [
    "def file_length(filename): \n",
    "    try:         \n",
    "        file = open(filename,\"r\")\n",
    "        contents = file.read()\n",
    "        file.close()\n",
    "        print(len(contents))\n",
    "    except FileNotFoundError:\n",
    "        print(\"File \" +filename+ \" not found. \")\n",
    "  \n",
    "file_length(\"C:\\\\Users\\\\msang\\\\OneDrive\\\\Desktop\\\\python programs\\\\bloodtype.txt\")\n",
    "file_length(\"C:\\\\Users\\\\msang\\\\OneDrive\\\\Desktop\\\\python programs\\\\blood.txt\")\n"
   ]
  },
  {
   "cell_type": "markdown",
   "id": "d366c2a5",
   "metadata": {},
   "source": [
    "# QUESTION 3\n",
    "\n",
    "Write a class named Marsupial that can be used as shown below:"
   ]
  },
  {
   "cell_type": "code",
   "execution_count": 66,
   "id": "f08ac76d",
   "metadata": {},
   "outputs": [
    {
     "name": "stdout",
     "output_type": "stream",
     "text": [
      "['Doll', 'Firetruck', 'Kitten']\n"
     ]
    }
   ],
   "source": [
    "class Marsucipial: \n",
    "    \n",
    "    def __init__(self):\n",
    "        self.m = []\n",
    "        \n",
    "    def put_in_pouch(self, m): \n",
    "        self.m.append(m) \n",
    "        \n",
    "    def pouch_contents(self):  \n",
    "        print (self.m)\n",
    "\n",
    "m = Marsucipial() \n",
    "m.put_in_pouch('Doll')\n",
    "m.put_in_pouch('Firetruck')\n",
    "m.put_in_pouch('Kitten')\n",
    "m.pouch_contents()\n",
    "\n",
    "class Kangaroo(Marsucipial):\n",
    "    \n",
    "    def __init__(self,x,y):\n",
    "        Marsucipial.__init__(self)\n",
    "        self.x = x\n",
    "        self.y = y\n",
    "        \n",
    "    def jump(self,x1,y1):  \n",
    "        self.x = self.x+x1\n",
    "        self.y = self.y+y1 \n",
    "        \n",
    "    def __str__(self): \n",
    "        return \"I am a kangaroo located at coordinates ({},{})\".format(self.x, self.y)\n"
   ]
  },
  {
   "cell_type": "code",
   "execution_count": 67,
   "id": "5f78a9fe",
   "metadata": {},
   "outputs": [
    {
     "name": "stdout",
     "output_type": "stream",
     "text": [
      "I am a kangaroo located at coordinates (0,0)\n"
     ]
    }
   ],
   "source": [
    "k = Kangaroo(0,0) \n",
    "print(k)"
   ]
  },
  {
   "cell_type": "code",
   "execution_count": 68,
   "id": "183f9123",
   "metadata": {},
   "outputs": [
    {
     "name": "stdout",
     "output_type": "stream",
     "text": [
      "['Doll', 'Firetruck', 'Kitten']\n"
     ]
    }
   ],
   "source": [
    "k.put_in_pouch('Doll') \n",
    "k.put_in_pouch('Firetruck')\n",
    "k.put_in_pouch('Kitten')\n",
    "k.pouch_contents() "
   ]
  },
  {
   "cell_type": "code",
   "execution_count": 69,
   "id": "648d87d4",
   "metadata": {},
   "outputs": [
    {
     "name": "stdout",
     "output_type": "stream",
     "text": [
      "I am a kangaroo located at coordinates (3,0)\n"
     ]
    }
   ],
   "source": [
    "k.jump(1,0) \n",
    "k.jump(1,0)\n",
    "k.jump(1,0)\n",
    "print(k)"
   ]
  },
  {
   "cell_type": "markdown",
   "id": "de1fc2dc",
   "metadata": {},
   "source": [
    "# QUESTION 4\n",
    "\n",
    "Write function collatz() that takes a positive integer x as input and prints the \n",
    "Collatz sequence starting at x. A Collatz sequence is obtained by repeatedly applying \n",
    "this rule to the previous number x in the sequence:\n",
    "x = {\n",
    "𝑥/2 𝑖𝑓 𝑥 𝑖𝑠 𝑒𝑣𝑒𝑛\n",
    "3𝑥 + 1 𝑖𝑓 𝑥 𝑖𝑠 𝑜𝑑𝑑\n",
    "Your function should stop when the sequence gets to number 1. Your \n",
    "implementation must be recursive, without any loops."
   ]
  },
  {
   "cell_type": "code",
   "execution_count": 70,
   "id": "3bc342c4",
   "metadata": {},
   "outputs": [
    {
     "name": "stdout",
     "output_type": "stream",
     "text": [
      "10\n",
      "5\n",
      "16\n",
      "8\n",
      "4\n",
      "2\n",
      "1\n"
     ]
    }
   ],
   "source": [
    "def collatz(x):\n",
    "     if x <= 1:\n",
    "        return x\n",
    "     elif (x % 2) == 0:\n",
    "        x = x//2\n",
    "        recursive = x\n",
    "        print (x)\n",
    "        collatz(recursive)\n",
    "     else:\n",
    "        x = ((3*x)+1)\n",
    "        recursive = x\n",
    "        print(x) \n",
    "        collatz(recursive)\n",
    "def value(x):  \n",
    "    print (x)\n",
    "    \n",
    "          \n",
    "value(10)\n",
    "collatz(10)"
   ]
  },
  {
   "cell_type": "markdown",
   "id": "800406c6",
   "metadata": {},
   "source": [
    "# QUESTION 5\n",
    "\n",
    "Write a recursive method binary() that takes a non-negative \n",
    "integer n and prints the binary representation of integer n."
   ]
  },
  {
   "cell_type": "code",
   "execution_count": 71,
   "id": "7a81e93f",
   "metadata": {},
   "outputs": [
    {
     "name": "stdout",
     "output_type": "stream",
     "text": [
      "1001\n"
     ]
    }
   ],
   "source": [
    "def binary(x):  \n",
    "    if x<=-1:\n",
    "        print('Blastoff')\n",
    "    else: \n",
    "        print(format(x,\"b\"))\n",
    "        \n",
    "binary(9)"
   ]
  },
  {
   "cell_type": "markdown",
   "id": "e5c31145",
   "metadata": {},
   "source": [
    "# QUESTION 6\n",
    "\n",
    "Implement a class named HeadingParser that can be used to parse an HTML \n",
    "document, and retrieve and print all the headings in the document. You should \n",
    "implement your class as a subclass of HTMLParser, defined in Standard Library \n",
    "module html.parser. When fed a string containing HTML code, your class should \n",
    "print the headings, one per line and in the order in which they appear in the \n",
    "document. Each heading should be indented as follows: an h1 heading should have\n",
    "indentation 0, and h2 heading should have indentation 1, etc. Test your \n",
    "implementation using w3c.html."
   ]
  },
  {
   "cell_type": "code",
   "execution_count": 72,
   "id": "48f89ab8",
   "metadata": {},
   "outputs": [],
   "source": [
    "infile = open(\"C:\\\\Users\\\\msang\\\\OneDrive\\\\Desktop\\\\DATA PROGRAMMING\\\\a\\\\w3c1.html\", \"r\")\n",
    "content = infile.read()\n",
    "infile.close()\n",
    "\n",
    "from html.parser import HTMLParser\n",
    "class Heading_Parser(HTMLParser):\n",
    "    def handle_starttag(self, tag, attrs): \n",
    "        \n",
    "        if tag == 'h1':\n",
    "            for attr in attrs:\n",
    "                if attr[1] == 'href':\n",
    "                    print (attr[0])\n",
    "Parser = Heading_Parser()\n",
    "Parser.feed(content)"
   ]
  },
  {
   "cell_type": "markdown",
   "id": "bba76ce7",
   "metadata": {},
   "source": [
    "# QUESTION 7\n",
    "\n",
    "Implement recursive function webdir() that takes as input: a URL (as a string) and \n",
    "non-negative integers depth and indent. Your function should visit every web \n",
    "page reachable from the starting URL web page in depth clicks or less, and print \n",
    "each web page's URL. As shown below, indentation, specified by indent, should \n",
    "be used to indicate the depth of a URL."
   ]
  },
  {
   "cell_type": "code",
   "execution_count": 63,
   "id": "89c68389",
   "metadata": {},
   "outputs": [
    {
     "ename": "HTTPError",
     "evalue": "HTTP Error 404: ",
     "output_type": "error",
     "traceback": [
      "\u001b[1;31m---------------------------------------------------------------------------\u001b[0m",
      "\u001b[1;31mHTTPError\u001b[0m                                 Traceback (most recent call last)",
      "\u001b[1;32m<ipython-input-63-c94a0e79b1e7>\u001b[0m in \u001b[0;36m<module>\u001b[1;34m\u001b[0m\n\u001b[0;32m     37\u001b[0m                 \u001b[0mprint\u001b[0m\u001b[1;33m(\u001b[0m\u001b[0mNolink\u001b[0m\u001b[1;33m)\u001b[0m\u001b[1;33m\u001b[0m\u001b[1;33m\u001b[0m\u001b[0m\n\u001b[0;32m     38\u001b[0m \u001b[1;33m\u001b[0m\u001b[0m\n\u001b[1;32m---> 39\u001b[1;33m \u001b[0mwebdir\u001b[0m\u001b[1;33m(\u001b[0m\u001b[1;34m'http://reed.cs.depaul.edu/lperkovic/csc242/test1.html'\u001b[0m\u001b[1;33m,\u001b[0m \u001b[1;36m2\u001b[0m\u001b[1;33m,\u001b[0m \u001b[1;36m0\u001b[0m\u001b[1;33m)\u001b[0m\u001b[1;33m\u001b[0m\u001b[1;33m\u001b[0m\u001b[0m\n\u001b[0m",
      "\u001b[1;32m<ipython-input-63-c94a0e79b1e7>\u001b[0m in \u001b[0;36mwebdir\u001b[1;34m(url, depth, indent)\u001b[0m\n\u001b[0;32m     30\u001b[0m \u001b[1;32mdef\u001b[0m \u001b[0mwebdir\u001b[0m\u001b[1;33m(\u001b[0m\u001b[0murl\u001b[0m\u001b[1;33m,\u001b[0m\u001b[0mdepth\u001b[0m\u001b[1;33m,\u001b[0m\u001b[0mindent\u001b[0m\u001b[1;33m)\u001b[0m\u001b[1;33m:\u001b[0m\u001b[1;33m\u001b[0m\u001b[1;33m\u001b[0m\u001b[0m\n\u001b[0;32m     31\u001b[0m     \u001b[0mwebpage\u001b[0m\u001b[1;33m.\u001b[0m\u001b[0madd\u001b[0m\u001b[1;33m(\u001b[0m\u001b[0murl\u001b[0m\u001b[1;33m)\u001b[0m\u001b[1;33m\u001b[0m\u001b[1;33m\u001b[0m\u001b[0m\n\u001b[1;32m---> 32\u001b[1;33m     \u001b[0mlinks\u001b[0m \u001b[1;33m=\u001b[0m \u001b[0mweb\u001b[0m\u001b[1;33m(\u001b[0m\u001b[0murl\u001b[0m\u001b[1;33m)\u001b[0m\u001b[1;33m\u001b[0m\u001b[1;33m\u001b[0m\u001b[0m\n\u001b[0m\u001b[0;32m     33\u001b[0m     \u001b[1;32mfor\u001b[0m \u001b[0mlink\u001b[0m \u001b[1;32min\u001b[0m \u001b[0mlinks\u001b[0m\u001b[1;33m:\u001b[0m\u001b[1;33m\u001b[0m\u001b[1;33m\u001b[0m\u001b[0m\n\u001b[0;32m     34\u001b[0m         \u001b[1;32mif\u001b[0m \u001b[0mlink\u001b[0m \u001b[1;32mnot\u001b[0m \u001b[1;32min\u001b[0m \u001b[0mwebpage\u001b[0m\u001b[1;33m:\u001b[0m\u001b[1;33m\u001b[0m\u001b[1;33m\u001b[0m\u001b[0m\n",
      "\u001b[1;32m<ipython-input-63-c94a0e79b1e7>\u001b[0m in \u001b[0;36mweb\u001b[1;34m(url)\u001b[0m\n\u001b[0;32m     20\u001b[0m \u001b[1;33m\u001b[0m\u001b[0m\n\u001b[0;32m     21\u001b[0m \u001b[1;32mdef\u001b[0m \u001b[0mweb\u001b[0m\u001b[1;33m(\u001b[0m\u001b[0murl\u001b[0m\u001b[1;33m)\u001b[0m\u001b[1;33m:\u001b[0m\u001b[1;33m\u001b[0m\u001b[1;33m\u001b[0m\u001b[0m\n\u001b[1;32m---> 22\u001b[1;33m     \u001b[0mresource\u001b[0m \u001b[1;33m=\u001b[0m \u001b[0murlopen\u001b[0m\u001b[1;33m(\u001b[0m\u001b[0murl\u001b[0m\u001b[1;33m)\u001b[0m\u001b[1;33m\u001b[0m\u001b[1;33m\u001b[0m\u001b[0m\n\u001b[0m\u001b[0;32m     23\u001b[0m     \u001b[0mcontent\u001b[0m \u001b[1;33m=\u001b[0m \u001b[0mresource\u001b[0m\u001b[1;33m.\u001b[0m\u001b[0mread\u001b[0m\u001b[1;33m(\u001b[0m\u001b[1;33m)\u001b[0m\u001b[1;33m.\u001b[0m\u001b[0mdecode\u001b[0m\u001b[1;33m(\u001b[0m\u001b[1;33m)\u001b[0m\u001b[1;33m\u001b[0m\u001b[1;33m\u001b[0m\u001b[0m\n\u001b[0;32m     24\u001b[0m     \u001b[0mcollector\u001b[0m \u001b[1;33m=\u001b[0m \u001b[0mCollector\u001b[0m\u001b[1;33m(\u001b[0m\u001b[0murl\u001b[0m\u001b[1;33m)\u001b[0m\u001b[1;33m\u001b[0m\u001b[1;33m\u001b[0m\u001b[0m\n",
      "\u001b[1;32m~\\anaconda3\\lib\\urllib\\request.py\u001b[0m in \u001b[0;36murlopen\u001b[1;34m(url, data, timeout, cafile, capath, cadefault, context)\u001b[0m\n\u001b[0;32m    220\u001b[0m     \u001b[1;32melse\u001b[0m\u001b[1;33m:\u001b[0m\u001b[1;33m\u001b[0m\u001b[1;33m\u001b[0m\u001b[0m\n\u001b[0;32m    221\u001b[0m         \u001b[0mopener\u001b[0m \u001b[1;33m=\u001b[0m \u001b[0m_opener\u001b[0m\u001b[1;33m\u001b[0m\u001b[1;33m\u001b[0m\u001b[0m\n\u001b[1;32m--> 222\u001b[1;33m     \u001b[1;32mreturn\u001b[0m \u001b[0mopener\u001b[0m\u001b[1;33m.\u001b[0m\u001b[0mopen\u001b[0m\u001b[1;33m(\u001b[0m\u001b[0murl\u001b[0m\u001b[1;33m,\u001b[0m \u001b[0mdata\u001b[0m\u001b[1;33m,\u001b[0m \u001b[0mtimeout\u001b[0m\u001b[1;33m)\u001b[0m\u001b[1;33m\u001b[0m\u001b[1;33m\u001b[0m\u001b[0m\n\u001b[0m\u001b[0;32m    223\u001b[0m \u001b[1;33m\u001b[0m\u001b[0m\n\u001b[0;32m    224\u001b[0m \u001b[1;32mdef\u001b[0m \u001b[0minstall_opener\u001b[0m\u001b[1;33m(\u001b[0m\u001b[0mopener\u001b[0m\u001b[1;33m)\u001b[0m\u001b[1;33m:\u001b[0m\u001b[1;33m\u001b[0m\u001b[1;33m\u001b[0m\u001b[0m\n",
      "\u001b[1;32m~\\anaconda3\\lib\\urllib\\request.py\u001b[0m in \u001b[0;36mopen\u001b[1;34m(self, fullurl, data, timeout)\u001b[0m\n\u001b[0;32m    529\u001b[0m         \u001b[1;32mfor\u001b[0m \u001b[0mprocessor\u001b[0m \u001b[1;32min\u001b[0m \u001b[0mself\u001b[0m\u001b[1;33m.\u001b[0m\u001b[0mprocess_response\u001b[0m\u001b[1;33m.\u001b[0m\u001b[0mget\u001b[0m\u001b[1;33m(\u001b[0m\u001b[0mprotocol\u001b[0m\u001b[1;33m,\u001b[0m \u001b[1;33m[\u001b[0m\u001b[1;33m]\u001b[0m\u001b[1;33m)\u001b[0m\u001b[1;33m:\u001b[0m\u001b[1;33m\u001b[0m\u001b[1;33m\u001b[0m\u001b[0m\n\u001b[0;32m    530\u001b[0m             \u001b[0mmeth\u001b[0m \u001b[1;33m=\u001b[0m \u001b[0mgetattr\u001b[0m\u001b[1;33m(\u001b[0m\u001b[0mprocessor\u001b[0m\u001b[1;33m,\u001b[0m \u001b[0mmeth_name\u001b[0m\u001b[1;33m)\u001b[0m\u001b[1;33m\u001b[0m\u001b[1;33m\u001b[0m\u001b[0m\n\u001b[1;32m--> 531\u001b[1;33m             \u001b[0mresponse\u001b[0m \u001b[1;33m=\u001b[0m \u001b[0mmeth\u001b[0m\u001b[1;33m(\u001b[0m\u001b[0mreq\u001b[0m\u001b[1;33m,\u001b[0m \u001b[0mresponse\u001b[0m\u001b[1;33m)\u001b[0m\u001b[1;33m\u001b[0m\u001b[1;33m\u001b[0m\u001b[0m\n\u001b[0m\u001b[0;32m    532\u001b[0m \u001b[1;33m\u001b[0m\u001b[0m\n\u001b[0;32m    533\u001b[0m         \u001b[1;32mreturn\u001b[0m \u001b[0mresponse\u001b[0m\u001b[1;33m\u001b[0m\u001b[1;33m\u001b[0m\u001b[0m\n",
      "\u001b[1;32m~\\anaconda3\\lib\\urllib\\request.py\u001b[0m in \u001b[0;36mhttp_response\u001b[1;34m(self, request, response)\u001b[0m\n\u001b[0;32m    638\u001b[0m         \u001b[1;31m# request was successfully received, understood, and accepted.\u001b[0m\u001b[1;33m\u001b[0m\u001b[1;33m\u001b[0m\u001b[1;33m\u001b[0m\u001b[0m\n\u001b[0;32m    639\u001b[0m         \u001b[1;32mif\u001b[0m \u001b[1;32mnot\u001b[0m \u001b[1;33m(\u001b[0m\u001b[1;36m200\u001b[0m \u001b[1;33m<=\u001b[0m \u001b[0mcode\u001b[0m \u001b[1;33m<\u001b[0m \u001b[1;36m300\u001b[0m\u001b[1;33m)\u001b[0m\u001b[1;33m:\u001b[0m\u001b[1;33m\u001b[0m\u001b[1;33m\u001b[0m\u001b[0m\n\u001b[1;32m--> 640\u001b[1;33m             response = self.parent.error(\n\u001b[0m\u001b[0;32m    641\u001b[0m                 'http', request, response, code, msg, hdrs)\n\u001b[0;32m    642\u001b[0m \u001b[1;33m\u001b[0m\u001b[0m\n",
      "\u001b[1;32m~\\anaconda3\\lib\\urllib\\request.py\u001b[0m in \u001b[0;36merror\u001b[1;34m(self, proto, *args)\u001b[0m\n\u001b[0;32m    567\u001b[0m         \u001b[1;32mif\u001b[0m \u001b[0mhttp_err\u001b[0m\u001b[1;33m:\u001b[0m\u001b[1;33m\u001b[0m\u001b[1;33m\u001b[0m\u001b[0m\n\u001b[0;32m    568\u001b[0m             \u001b[0margs\u001b[0m \u001b[1;33m=\u001b[0m \u001b[1;33m(\u001b[0m\u001b[0mdict\u001b[0m\u001b[1;33m,\u001b[0m \u001b[1;34m'default'\u001b[0m\u001b[1;33m,\u001b[0m \u001b[1;34m'http_error_default'\u001b[0m\u001b[1;33m)\u001b[0m \u001b[1;33m+\u001b[0m \u001b[0morig_args\u001b[0m\u001b[1;33m\u001b[0m\u001b[1;33m\u001b[0m\u001b[0m\n\u001b[1;32m--> 569\u001b[1;33m             \u001b[1;32mreturn\u001b[0m \u001b[0mself\u001b[0m\u001b[1;33m.\u001b[0m\u001b[0m_call_chain\u001b[0m\u001b[1;33m(\u001b[0m\u001b[1;33m*\u001b[0m\u001b[0margs\u001b[0m\u001b[1;33m)\u001b[0m\u001b[1;33m\u001b[0m\u001b[1;33m\u001b[0m\u001b[0m\n\u001b[0m\u001b[0;32m    570\u001b[0m \u001b[1;33m\u001b[0m\u001b[0m\n\u001b[0;32m    571\u001b[0m \u001b[1;31m# XXX probably also want an abstract factory that knows when it makes\u001b[0m\u001b[1;33m\u001b[0m\u001b[1;33m\u001b[0m\u001b[1;33m\u001b[0m\u001b[0m\n",
      "\u001b[1;32m~\\anaconda3\\lib\\urllib\\request.py\u001b[0m in \u001b[0;36m_call_chain\u001b[1;34m(self, chain, kind, meth_name, *args)\u001b[0m\n\u001b[0;32m    500\u001b[0m         \u001b[1;32mfor\u001b[0m \u001b[0mhandler\u001b[0m \u001b[1;32min\u001b[0m \u001b[0mhandlers\u001b[0m\u001b[1;33m:\u001b[0m\u001b[1;33m\u001b[0m\u001b[1;33m\u001b[0m\u001b[0m\n\u001b[0;32m    501\u001b[0m             \u001b[0mfunc\u001b[0m \u001b[1;33m=\u001b[0m \u001b[0mgetattr\u001b[0m\u001b[1;33m(\u001b[0m\u001b[0mhandler\u001b[0m\u001b[1;33m,\u001b[0m \u001b[0mmeth_name\u001b[0m\u001b[1;33m)\u001b[0m\u001b[1;33m\u001b[0m\u001b[1;33m\u001b[0m\u001b[0m\n\u001b[1;32m--> 502\u001b[1;33m             \u001b[0mresult\u001b[0m \u001b[1;33m=\u001b[0m \u001b[0mfunc\u001b[0m\u001b[1;33m(\u001b[0m\u001b[1;33m*\u001b[0m\u001b[0margs\u001b[0m\u001b[1;33m)\u001b[0m\u001b[1;33m\u001b[0m\u001b[1;33m\u001b[0m\u001b[0m\n\u001b[0m\u001b[0;32m    503\u001b[0m             \u001b[1;32mif\u001b[0m \u001b[0mresult\u001b[0m \u001b[1;32mis\u001b[0m \u001b[1;32mnot\u001b[0m \u001b[1;32mNone\u001b[0m\u001b[1;33m:\u001b[0m\u001b[1;33m\u001b[0m\u001b[1;33m\u001b[0m\u001b[0m\n\u001b[0;32m    504\u001b[0m                 \u001b[1;32mreturn\u001b[0m \u001b[0mresult\u001b[0m\u001b[1;33m\u001b[0m\u001b[1;33m\u001b[0m\u001b[0m\n",
      "\u001b[1;32m~\\anaconda3\\lib\\urllib\\request.py\u001b[0m in \u001b[0;36mhttp_error_default\u001b[1;34m(self, req, fp, code, msg, hdrs)\u001b[0m\n\u001b[0;32m    647\u001b[0m \u001b[1;32mclass\u001b[0m \u001b[0mHTTPDefaultErrorHandler\u001b[0m\u001b[1;33m(\u001b[0m\u001b[0mBaseHandler\u001b[0m\u001b[1;33m)\u001b[0m\u001b[1;33m:\u001b[0m\u001b[1;33m\u001b[0m\u001b[1;33m\u001b[0m\u001b[0m\n\u001b[0;32m    648\u001b[0m     \u001b[1;32mdef\u001b[0m \u001b[0mhttp_error_default\u001b[0m\u001b[1;33m(\u001b[0m\u001b[0mself\u001b[0m\u001b[1;33m,\u001b[0m \u001b[0mreq\u001b[0m\u001b[1;33m,\u001b[0m \u001b[0mfp\u001b[0m\u001b[1;33m,\u001b[0m \u001b[0mcode\u001b[0m\u001b[1;33m,\u001b[0m \u001b[0mmsg\u001b[0m\u001b[1;33m,\u001b[0m \u001b[0mhdrs\u001b[0m\u001b[1;33m)\u001b[0m\u001b[1;33m:\u001b[0m\u001b[1;33m\u001b[0m\u001b[1;33m\u001b[0m\u001b[0m\n\u001b[1;32m--> 649\u001b[1;33m         \u001b[1;32mraise\u001b[0m \u001b[0mHTTPError\u001b[0m\u001b[1;33m(\u001b[0m\u001b[0mreq\u001b[0m\u001b[1;33m.\u001b[0m\u001b[0mfull_url\u001b[0m\u001b[1;33m,\u001b[0m \u001b[0mcode\u001b[0m\u001b[1;33m,\u001b[0m \u001b[0mmsg\u001b[0m\u001b[1;33m,\u001b[0m \u001b[0mhdrs\u001b[0m\u001b[1;33m,\u001b[0m \u001b[0mfp\u001b[0m\u001b[1;33m)\u001b[0m\u001b[1;33m\u001b[0m\u001b[1;33m\u001b[0m\u001b[0m\n\u001b[0m\u001b[0;32m    650\u001b[0m \u001b[1;33m\u001b[0m\u001b[0m\n\u001b[0;32m    651\u001b[0m \u001b[1;32mclass\u001b[0m \u001b[0mHTTPRedirectHandler\u001b[0m\u001b[1;33m(\u001b[0m\u001b[0mBaseHandler\u001b[0m\u001b[1;33m)\u001b[0m\u001b[1;33m:\u001b[0m\u001b[1;33m\u001b[0m\u001b[1;33m\u001b[0m\u001b[0m\n",
      "\u001b[1;31mHTTPError\u001b[0m: HTTP Error 404: "
     ]
    }
   ],
   "source": [
    "from urllib.request import urlopen\n",
    "from urllib.parse import urljoin\n",
    "from html.parser import HTMLParser\n",
    "\n",
    "class Collector(HTMLParser):\n",
    "    'collects hyperlink URLs into a list'\n",
    "    def __init__(self, url):\n",
    "        HTMLParser.__init__(self)\n",
    "        self.url = url\n",
    "        self.links = []\n",
    "    def handle_starttag(self, tag, attrs):\n",
    "        if tag == 'a':\n",
    "            for attr in attrs:\n",
    "                if attr[0] == 'href':\n",
    "                    absolute = urljoin(self.url, attr[1])\n",
    "                    if absolute[:4] == 'http': \n",
    "                        self.links.append(absolute)\n",
    "    def getLinks(self):\n",
    "        return self.links\n",
    "    \n",
    "def web(url):\n",
    "    resource = urlopen(url)\n",
    "    content = resource.read().decode()\n",
    "    collector = Collector(url)\n",
    "    collector.feed(content)\n",
    "    collect = collector.getLinks()  \n",
    "    return collect\n",
    "\n",
    "webpage = set()\n",
    "def webdir(url,depth,indent):\n",
    "    webpage.add(url) \n",
    "    links = web(url)\n",
    "    for link in links:\n",
    "        if link not in webpage:\n",
    "                print(link)\n",
    "        else:\n",
    "                print(Nolink)\n",
    "\n",
    "webdir('http://reed.cs.depaul.edu/lperkovic/csc242/test1.html', 2, 0)"
   ]
  },
  {
   "cell_type": "markdown",
   "id": "9889403f",
   "metadata": {},
   "source": [
    "# QUESTION 8\n",
    "\n",
    "Write SQL queries on the below database table that return:"
   ]
  },
  {
   "cell_type": "code",
   "execution_count": 45,
   "id": "c5b6fc36",
   "metadata": {},
   "outputs": [],
   "source": [
    "import sqlite3\n",
    "con = sqlite3.connect('data.db')\n",
    "cur = con.cursor()\n",
    "cur.execute(\"CREATE table Temperature(City text, Country text, Season text, Temperatur float, Rainfall float)\")\n",
    "cur.execute(\"INSERT INTO Temperature VALUES('Mumbai','India','Winter','24.8','5.9')\")\n",
    "cur.execute(\"INSERT INTO Temperature VALUES('Mumbai','India','Spring','28.4','16.2')\")\n",
    "cur.execute(\"INSERT INTO Temperature VALUES('Mumbai','India','Summer','27.9','1549.4')\")\n",
    "cur.execute(\"INSERT INTO Temperature VALUES('Mumbai','India','Fall','27.6','346.0')\")\n",
    "cur.execute(\"INSERT INTO Temperature VALUES('London','United Kingdom','Winter','4.2','207.7')\")\n",
    "cur.execute(\"INSERT INTO Temperature VALUES('London','United Kingdom','Spring','8.3','169.6')\")\n",
    "cur.execute(\"INSERT INTO Temperature VALUES('London','United Kingdom','Summer','15.7','157.0')\")\n",
    "cur.execute(\"INSERT INTO Temperature VALUES('London','United Kingdom','Fall','10.4','218.5')\")\n",
    "cur.execute(\"INSERT INTO Temperature VALUES('Cairo','Egypt','Winter','13.6','16.5')\")\n",
    "cur.execute(\"INSERT INTO Temperature VALUES('Cairo','Egypt','Spring','20.7','6.5')\")\n",
    "cur.execute(\"INSERT INTO Temperature VALUES('Cairo','Egypt','Summer','27.7','0.1')\")\n",
    "cur.execute(\"INSERT INTO Temperature VALUES('Cairo','Egypt','Fall','22.2','4.5')\")\n",
    "con.commit()           "
   ]
  },
  {
   "cell_type": "markdown",
   "id": "d6a41e50",
   "metadata": {},
   "source": [
    "# QUESTION 8A \n",
    "\n",
    "(All the temperature data)"
   ]
  },
  {
   "cell_type": "code",
   "execution_count": 73,
   "id": "b8ccbb1f",
   "metadata": {},
   "outputs": [
    {
     "name": "stdout",
     "output_type": "stream",
     "text": [
      "[(24.8,), (28.4,), (27.9,), (27.6,), (4.2,), (8.3,), (15.7,), (10.4,), (13.6,), (20.7,), (27.7,), (22.2,)]\n"
     ]
    }
   ],
   "source": [
    "cur.execute(\"SELECT Temperatur FROM Temperature\")\n",
    "print(cur.fetchall())\n",
    "con.commit()"
   ]
  },
  {
   "cell_type": "markdown",
   "id": "e7318402",
   "metadata": {},
   "source": [
    "# QUESTION 8B \n",
    "\n",
    "(All the cities, but without repetition)"
   ]
  },
  {
   "cell_type": "code",
   "execution_count": 74,
   "id": "e1441691",
   "metadata": {},
   "outputs": [
    {
     "name": "stdout",
     "output_type": "stream",
     "text": [
      "[('Mumbai',), ('London',), ('Cairo',)]\n"
     ]
    }
   ],
   "source": [
    "cur.execute(\"SELECT Distinct City FROM Temperature\")\n",
    "print(cur.fetchall())\n",
    "con.commit()"
   ]
  },
  {
   "cell_type": "markdown",
   "id": "bc7443c9",
   "metadata": {},
   "source": [
    "# QUESTION 8C \n",
    "\n",
    "(All the records for India)"
   ]
  },
  {
   "cell_type": "code",
   "execution_count": 49,
   "id": "1437d437",
   "metadata": {},
   "outputs": [
    {
     "name": "stdout",
     "output_type": "stream",
     "text": [
      "[('Mumbai', 'India', 'Winter', 24.8, 5.9), ('Mumbai', 'India', 'Spring', 28.4, 16.2), ('Mumbai', 'India', 'Summer', 27.9, 1549.4), ('Mumbai', 'India', 'Fall', 27.6, 346.0)]\n"
     ]
    }
   ],
   "source": [
    "cur.execute(\"SELECT * FROM Temperature WHERE Country = 'India' \")\n",
    "print(cur.fetchall())\n",
    "con.commit()"
   ]
  },
  {
   "cell_type": "markdown",
   "id": "1fe6206d",
   "metadata": {},
   "source": [
    "# QUESTION 8D\n",
    "\n",
    "(All the Fall records)"
   ]
  },
  {
   "cell_type": "code",
   "execution_count": 75,
   "id": "8336cca1",
   "metadata": {},
   "outputs": [
    {
     "name": "stdout",
     "output_type": "stream",
     "text": [
      "[('Mumbai', 'India', 'Fall', 27.6, 346.0), ('London', 'United Kingdom', 'Fall', 10.4, 218.5), ('Cairo', 'Egypt', 'Fall', 22.2, 4.5)]\n"
     ]
    }
   ],
   "source": [
    "cur.execute(\"SELECT * FROM Temperature WHERE Season = 'Fall' \")\n",
    "print(cur.fetchall())\n",
    "con.commit()"
   ]
  },
  {
   "cell_type": "markdown",
   "id": "b5994fcb",
   "metadata": {},
   "source": [
    "# QUESTION 8E\n",
    "\n",
    "(The city, country, and season for which the average rainfall is between 200 and 400 millimeters)"
   ]
  },
  {
   "cell_type": "code",
   "execution_count": 76,
   "id": "fc58f26a",
   "metadata": {},
   "outputs": [
    {
     "name": "stdout",
     "output_type": "stream",
     "text": [
      "[('Mumbai', 'India', 'Fall'), ('London', 'United Kingdom', 'Winter'), ('London', 'United Kingdom', 'Fall')]\n"
     ]
    }
   ],
   "source": [
    "cur.execute(\"SELECT City, Country, Season FROM Temperature WHERE Rainfall BETWEEN 200 AND 400 \")\n",
    "print(cur.fetchall())\n",
    "con.commit()"
   ]
  },
  {
   "cell_type": "markdown",
   "id": "a4218da0",
   "metadata": {},
   "source": [
    "# QUESTION 8F \n",
    "\n",
    "(The city and country for which the average Fall temperature is above 20 degrees, in increasing temperature order)"
   ]
  },
  {
   "cell_type": "code",
   "execution_count": 77,
   "id": "f8da5a70",
   "metadata": {},
   "outputs": [
    {
     "name": "stdout",
     "output_type": "stream",
     "text": [
      "[('Cairo', 'Egypt'), ('Mumbai', 'India')]\n"
     ]
    }
   ],
   "source": [
    "cur.execute(\"SELECT City, Country FROM Temperature WHERE Season = 'Fall' AND Temperatur>20 ORDER BY Temperatur \")\n",
    "print(cur.fetchall())\n",
    "con.commit()"
   ]
  },
  {
   "cell_type": "markdown",
   "id": "151359ad",
   "metadata": {},
   "source": [
    "# QUESTION 8G \n",
    "\n",
    "(The total annual rainfall for Cairo)"
   ]
  },
  {
   "cell_type": "code",
   "execution_count": 53,
   "id": "7ebe90c9",
   "metadata": {},
   "outputs": [
    {
     "name": "stdout",
     "output_type": "stream",
     "text": [
      "[(27.6,)]\n"
     ]
    }
   ],
   "source": [
    "cur.execute(\"SELECT SUM(Rainfall) FROM Temperature WHERE City = 'Cairo' \")\n",
    "print(cur.fetchall())\n",
    "con.commit()"
   ]
  },
  {
   "cell_type": "markdown",
   "id": "3880210c",
   "metadata": {},
   "source": [
    "# QUESTION 8H \n",
    "\n",
    "(The total rainfall for each season)"
   ]
  },
  {
   "cell_type": "code",
   "execution_count": 54,
   "id": "3b8a3e9a",
   "metadata": {},
   "outputs": [
    {
     "name": "stdout",
     "output_type": "stream",
     "text": [
      "[(230.1,)]\n",
      "[(192.29999999999998,)]\n",
      "[(1706.5,)]\n",
      "[(569.0,)]\n"
     ]
    }
   ],
   "source": [
    "cur.execute(\"SELECT SUM(Rainfall) FROM Temperature WHERE Season = 'Winter' \")\n",
    "print(cur.fetchall())\n",
    "cur.execute(\"SELECT SUM(Rainfall) FROM Temperature WHERE Season = 'Spring' \")\n",
    "print(cur.fetchall())\n",
    "cur.execute(\"SELECT SUM(Rainfall) FROM Temperature WHERE Season = 'Summer' \")\n",
    "print(cur.fetchall())\n",
    "cur.execute(\"SELECT SUM(Rainfall) FROM Temperature WHERE Season = 'Fall' \")\n",
    "print(cur.fetchall())\n",
    "con.commit()"
   ]
  },
  {
   "cell_type": "markdown",
   "id": "c145f50b",
   "metadata": {},
   "source": [
    "# QUESTION 9A \n",
    "\n",
    "(Upper case)"
   ]
  },
  {
   "cell_type": "code",
   "execution_count": 42,
   "id": "67c6720e",
   "metadata": {},
   "outputs": [
    {
     "name": "stdout",
     "output_type": "stream",
     "text": [
      "['THE', 'QUICK', 'BROWN', 'FOX', 'JUMPS', 'OVER', 'THE', 'LAZY', 'DOG']\n"
     ]
    }
   ],
   "source": [
    "words = ['The', 'quick', 'brown', 'fox', 'jumps', 'over', 'the', 'lazy', 'dog']\n",
    "newwords = [x.upper() for x in words]\n",
    "print (newwords)"
   ]
  },
  {
   "cell_type": "markdown",
   "id": "8f3f6507",
   "metadata": {},
   "source": [
    "# QUESTION 9B \n",
    "\n",
    "(Lower case)"
   ]
  },
  {
   "cell_type": "code",
   "execution_count": 41,
   "id": "dec8b28a",
   "metadata": {},
   "outputs": [
    {
     "name": "stdout",
     "output_type": "stream",
     "text": [
      "['the', 'quick', 'brown', 'fox', 'jumps', 'over', 'the', 'lazy', 'dog']\n"
     ]
    }
   ],
   "source": [
    "words = ['The', 'quick', 'brown', 'fox', 'jumps', 'over', 'the', 'lazy', 'dog']\n",
    "newwords = [x.lower() for x in words]\n",
    "print (newwords)"
   ]
  },
  {
   "cell_type": "markdown",
   "id": "9eee9e3d",
   "metadata": {},
   "source": [
    "# QUESTION 9C \n",
    "\n",
    "(The list of lengths of words in list words)"
   ]
  },
  {
   "cell_type": "code",
   "execution_count": 40,
   "id": "c47e7e7c",
   "metadata": {},
   "outputs": [
    {
     "name": "stdout",
     "output_type": "stream",
     "text": [
      "[3, 5, 5, 3, 5, 4, 3, 4, 3]\n"
     ]
    }
   ],
   "source": [
    "words = ['The', 'quick', 'brown', 'fox', 'jumps', 'over', 'the', 'lazy', 'dog']\n",
    "newwords = []\n",
    "for i in words:\n",
    "        newwords.append(len(i))\n",
    "print (newwords)"
   ]
  },
  {
   "cell_type": "markdown",
   "id": "45e8698d",
   "metadata": {},
   "source": [
    "# QUESTION 9D \n",
    "\n",
    "(The list containing a list for every word of list words, where each list contains the word in uppercase and lowercase and the length of the word)"
   ]
  },
  {
   "cell_type": "code",
   "execution_count": 39,
   "id": "848583e1",
   "metadata": {},
   "outputs": [
    {
     "name": "stdout",
     "output_type": "stream",
     "text": [
      "[['THE', 'the', 3], ['QUICK', 'quick', 5], ['BROWN', 'brown', 5], ['FOX', 'fox', 3], ['JUMPS', 'jumps', 5], ['OVER', 'over', 4], ['THE', 'the', 3], ['LAZY', 'lazy', 4], ['DOG', 'dog', 3]]\n"
     ]
    }
   ],
   "source": [
    "words = ['The', 'quick', 'brown', 'fox', 'jumps', 'over', 'the', 'lazy', 'dog']\n",
    "newwords = []\n",
    "newlist = []\n",
    "n1 = [x.upper() for x in words]\n",
    "n2 = [x.lower() for x in words]\n",
    "for i in range(len(words)):\n",
    "        newwords.append (n1[i])\n",
    "        newwords.append (n2[i])\n",
    "        newwords.append (len(n1[i]))\n",
    "        newlist.append(newwords)\n",
    "        newwords=[]\n",
    "print (newlist)"
   ]
  },
  {
   "cell_type": "markdown",
   "id": "49aee53e",
   "metadata": {},
   "source": [
    "# QUESTION 9E \n",
    "\n",
    "(The list of words in list words containing 4 or more characters)"
   ]
  },
  {
   "cell_type": "code",
   "execution_count": 37,
   "id": "6ab36389",
   "metadata": {},
   "outputs": [
    {
     "name": "stdout",
     "output_type": "stream",
     "text": [
      "['quick', 'brown', 'jumps', 'over', 'lazy']\n"
     ]
    }
   ],
   "source": [
    "words = ['The', 'quick', 'brown', 'fox', 'jumps', 'over', 'the', 'lazy', 'dog']\n",
    "newwords = []\n",
    "for i in words:\n",
    "    if len(i)>=4:\n",
    "        newwords.append(i)  \n",
    "print (newwords)\n",
    "        "
   ]
  },
  {
   "cell_type": "code",
   "execution_count": null,
   "id": "63abffb1",
   "metadata": {},
   "outputs": [],
   "source": []
  }
 ],
 "metadata": {
  "kernelspec": {
   "display_name": "Python 3",
   "language": "python",
   "name": "python3"
  },
  "language_info": {
   "codemirror_mode": {
    "name": "ipython",
    "version": 3
   },
   "file_extension": ".py",
   "mimetype": "text/x-python",
   "name": "python",
   "nbconvert_exporter": "python",
   "pygments_lexer": "ipython3",
   "version": "3.8.8"
  }
 },
 "nbformat": 4,
 "nbformat_minor": 5
}
